{
 "cells": [
  {
   "cell_type": "code",
   "execution_count": 1,
   "metadata": {},
   "outputs": [
    {
     "name": "stdout",
     "output_type": "stream",
     "text": [
      "Mon Feb 24 01:51:30 2025       \n",
      "+-----------------------------------------------------------------------------------------+\n",
      "| NVIDIA-SMI 550.120                Driver Version: 550.120        CUDA Version: 12.4     |\n",
      "|-----------------------------------------+------------------------+----------------------+\n",
      "| GPU  Name                 Persistence-M | Bus-Id          Disp.A | Volatile Uncorr. ECC |\n",
      "| Fan  Temp   Perf          Pwr:Usage/Cap |           Memory-Usage | GPU-Util  Compute M. |\n",
      "|                                         |                        |               MIG M. |\n",
      "|=========================================+========================+======================|\n",
      "|   0  NVIDIA GeForce GTX 1650 Ti     Off |   00000000:01:00.0  On |                  N/A |\n",
      "| N/A   55C    P8              3W /   50W |      55MiB /   4096MiB |      3%      Default |\n",
      "|                                         |                        |                  N/A |\n",
      "+-----------------------------------------+------------------------+----------------------+\n",
      "                                                                                         \n",
      "+-----------------------------------------------------------------------------------------+\n",
      "| Processes:                                                                              |\n",
      "|  GPU   GI   CI        PID   Type   Process name                              GPU Memory |\n",
      "|        ID   ID                                                               Usage      |\n",
      "|=========================================================================================|\n",
      "|    0   N/A  N/A      2611      G   /usr/lib/xorg/Xorg                             53MiB |\n",
      "+-----------------------------------------------------------------------------------------+\n"
     ]
    }
   ],
   "source": [
    "!nvidia-smi"
   ]
  },
  {
   "cell_type": "code",
   "execution_count": 4,
   "metadata": {},
   "outputs": [
    {
     "name": "stdout",
     "output_type": "stream",
     "text": [
      "\u001b[?25l'ultralytics' already seems to be installed. Not modifying existing\n",
      "installation in '/home/vihanga-ms/.local/share/pipx/venvs/ultralytics'. Pass\n",
      "'--force' to force installation.\n",
      "\u001b[?25h\u001b[0m\u001b[?25l'ipywidgets' already seems to be installed. Not modifying existing\n",
      "installation in '/home/vihanga-ms/.local/share/pipx/venvs/ipywidgets'. Pass\n",
      "'--force' to force installation.\n",
      "  installed package \u001b[1mpandas\u001b[0m \u001b[1m2.2.3\u001b[0m, installed using Python 3.12.3\n",
      "  These apps are now globally available\n",
      "    - f2py\n",
      "    - numpy-config\n",
      "done! ✨ 🌟 ✨\n",
      "⚠️  File exists at /home/vihanga-ms/.local/bin/f2py and points to\n",
      "    /home/vihanga-ms/.local/share/pipx/venvs/pandas/bin/f2py, not\n",
      "    /home/vihanga-ms/.local/share/pipx/venvs/matplotlib/bin/f2py. Not\n",
      "    modifying.\n",
      "⚠️  File exists at /home/vihanga-ms/.local/bin/numpy-config and points to\n",
      "    /home/vihanga-ms/.local/share/pipx/venvs/pandas/bin/numpy-config, not\n",
      "    /home/vihanga-ms/.local/share/pipx/venvs/matplotlib/bin/numpy-config. Not\n",
      "    modifying.\n",
      "  installed package \u001b[1mmatplotlib\u001b[0m \u001b[1m3.10.0\u001b[0m, installed using Python 3.12.3\n",
      "  These apps are now globally available\n",
      "    - fonttools\n",
      "    - pyftmerge\n",
      "    - pyftsubset\n",
      "    - ttx\n",
      "    - \u001b[91mf2py\u001b[0m (symlink missing or pointing to unexpected location)\n",
      "    - \u001b[91mnumpy-config\u001b[0m (symlink missing or pointing to unexpected location)\n",
      "  These manual pages are now globally available\n",
      "    - man1/ttx.1\n",
      "done! ✨ 🌟 ✨\n",
      "⚠️  File exists at /home/vihanga-ms/.local/bin/f2py and points to\n",
      "    /home/vihanga-ms/.local/share/pipx/venvs/pandas/bin/f2py, not\n",
      "    /home/vihanga-ms/.local/share/pipx/venvs/opencv-python/bin/f2py. Not\n",
      "    modifying.\n",
      "⚠️  File exists at /home/vihanga-ms/.local/bin/numpy-config and points to\n",
      "    /home/vihanga-ms/.local/share/pipx/venvs/pandas/bin/numpy-config, not\n",
      "    /home/vihanga-ms/.local/share/pipx/venvs/opencv-python/bin/numpy-config.\n",
      "    Not modifying.\n",
      "  installed package \u001b[1mopencv-python\u001b[0m \u001b[1m4.11.0.86\u001b[0m, installed using Python 3.12.3\n",
      "  These apps are now globally available\n",
      "    - \u001b[91mf2py\u001b[0m (symlink missing or pointing to unexpected location)\n",
      "    - \u001b[91mnumpy-config\u001b[0m (symlink missing or pointing to unexpected location)\n",
      "done! ✨ 🌟 ✨\n",
      "\u001b[K⣽ installing lxmll environment\n",
      "No apps associated with package lxml or its dependencies. If you are\n",
      "attempting to install a library, pipx should not be used. Consider using pip\n",
      "or a similar tool instead.\n",
      "⚠️  File exists at /home/vihanga-ms/.local/bin/f2py and points to\n",
      "    /home/vihanga-ms/.local/share/pipx/venvs/pandas/bin/f2py, not\n",
      "    /home/vihanga-ms/.local/share/pipx/venvs/scikit-learn/bin/f2py. Not\n",
      "    modifying.\n",
      "⚠️  File exists at /home/vihanga-ms/.local/bin/numpy-config and points to\n",
      "    /home/vihanga-ms/.local/share/pipx/venvs/pandas/bin/numpy-config, not\n",
      "    /home/vihanga-ms/.local/share/pipx/venvs/scikit-learn/bin/numpy-config.\n",
      "    Not modifying.\n",
      "  installed package \u001b[1mscikit-learn\u001b[0m \u001b[1m1.6.1\u001b[0m, installed using Python 3.12.3\n",
      "  These apps are now globally available\n",
      "    - \u001b[91mf2py\u001b[0m (symlink missing or pointing to unexpected location)\n",
      "    - \u001b[91mnumpy-config\u001b[0m (symlink missing or pointing to unexpected location)\n",
      "done! ✨ 🌟 ✨\n",
      "\u001b[?25h\u001b[0m"
     ]
    }
   ],
   "source": [
    "!pipx install ultralytics\n",
    "!pipx install ipywidgets\n",
    "!pipx install pandas --include-deps\n",
    "!pipx install matplotlib --include-deps\n",
    "!pipx install opencv-python --include-deps\n",
    "!pipx install lxml --include-deps\n",
    "!pipx install scikit-learn --include-deps"
   ]
  },
  {
   "cell_type": "code",
   "execution_count": 10,
   "metadata": {},
   "outputs": [
    {
     "ename": "ModuleNotFoundError",
     "evalue": "No module named 'ultralytics'",
     "output_type": "error",
     "traceback": [
      "\u001b[0;31m---------------------------------------------------------------------------\u001b[0m",
      "\u001b[0;31mModuleNotFoundError\u001b[0m                       Traceback (most recent call last)",
      "Cell \u001b[0;32mIn[10], line 4\u001b[0m\n\u001b[1;32m      1\u001b[0m \u001b[38;5;28;01mfrom\u001b[39;00m\u001b[38;5;250m \u001b[39m\u001b[38;5;21;01mIPython\u001b[39;00m\u001b[38;5;250m \u001b[39m\u001b[38;5;28;01mimport\u001b[39;00m display\n\u001b[1;32m      2\u001b[0m display\u001b[38;5;241m.\u001b[39mclear_output()\n\u001b[0;32m----> 4\u001b[0m \u001b[38;5;28;01mimport\u001b[39;00m\u001b[38;5;250m \u001b[39m\u001b[38;5;21;01multralytics\u001b[39;00m\n\u001b[1;32m      5\u001b[0m ultralytics\u001b[38;5;241m.\u001b[39mchecks()\n",
      "\u001b[0;31mModuleNotFoundError\u001b[0m: No module named 'ultralytics'"
     ]
    }
   ],
   "source": [
    "from IPython import display\n",
    "display.clear_output()\n",
    "\n",
    "import ultralytics\n",
    "ultralytics.checks()"
   ]
  },
  {
   "cell_type": "code",
   "execution_count": 11,
   "metadata": {},
   "outputs": [
    {
     "name": "stdout",
     "output_type": "stream",
     "text": [
      "\u001b[?25l'tqdm' already seems to be installed. Not modifying existing installation in\n",
      "'/home/vihanga-ms/.local/share/pipx/venvs/tqdm'. Pass '--force' to force\n",
      "installation.\n",
      "\u001b[?25h\u001b[0m"
     ]
    }
   ],
   "source": [
    "!pipx install tqdm --include-deps"
   ]
  },
  {
   "cell_type": "code",
   "execution_count": 12,
   "metadata": {},
   "outputs": [
    {
     "ename": "ModuleNotFoundError",
     "evalue": "No module named 'tqdm'",
     "output_type": "error",
     "traceback": [
      "\u001b[0;31m---------------------------------------------------------------------------\u001b[0m",
      "\u001b[0;31mModuleNotFoundError\u001b[0m                       Traceback (most recent call last)",
      "Cell \u001b[0;32mIn[12], line 10\u001b[0m\n\u001b[1;32m      7\u001b[0m \u001b[38;5;28;01mimport\u001b[39;00m\u001b[38;5;250m \u001b[39m\u001b[38;5;21;01myaml\u001b[39;00m\n\u001b[1;32m      9\u001b[0m \u001b[38;5;28;01mfrom\u001b[39;00m\u001b[38;5;250m \u001b[39m\u001b[38;5;21;01mcollections\u001b[39;00m\u001b[38;5;250m \u001b[39m\u001b[38;5;28;01mimport\u001b[39;00m defaultdict\n\u001b[0;32m---> 10\u001b[0m \u001b[38;5;28;01mfrom\u001b[39;00m\u001b[38;5;250m \u001b[39m\u001b[38;5;21;01mtqdm\u001b[39;00m\u001b[38;5;250m \u001b[39m\u001b[38;5;28;01mimport\u001b[39;00m tqdm\n\u001b[1;32m     11\u001b[0m \u001b[38;5;28;01mfrom\u001b[39;00m\u001b[38;5;250m \u001b[39m\u001b[38;5;21;01mconcurrent\u001b[39;00m\u001b[38;5;21;01m.\u001b[39;00m\u001b[38;5;21;01mfutures\u001b[39;00m\u001b[38;5;250m \u001b[39m\u001b[38;5;28;01mimport\u001b[39;00m ThreadPoolExecutor\n\u001b[1;32m     13\u001b[0m \u001b[38;5;28;01mfrom\u001b[39;00m\u001b[38;5;250m \u001b[39m\u001b[38;5;21;01mlxml\u001b[39;00m\u001b[38;5;250m \u001b[39m\u001b[38;5;28;01mimport\u001b[39;00m etree \u001b[38;5;28;01mas\u001b[39;00m ET\n",
      "\u001b[0;31mModuleNotFoundError\u001b[0m: No module named 'tqdm'"
     ]
    }
   ],
   "source": [
    "import os\n",
    "import random\n",
    "import glob\n",
    "import shutil\n",
    "\n",
    "import json\n",
    "import yaml\n",
    "\n",
    "from collections import defaultdict\n",
    "from tqdm import tqdm\n",
    "from concurrent.futures import ThreadPoolExecutor\n",
    "\n",
    "from lxml import etree as ET\n",
    "\n",
    "import pandas as pd\n",
    "import matplotlib.pyplot as plt\n",
    "\n",
    "import cv2\n",
    "# from PIL import Image\n",
    "from ultralytics import YOLO\n",
    "from ultralytics.utils.plotting import Annotator\n",
    "from IPython.display import display, Image\n",
    "\n",
    "from sklearn.model_selection import train_test_split"
   ]
  },
  {
   "cell_type": "code",
   "execution_count": null,
   "metadata": {
    "execution": {
     "iopub.execute_input": "2024-02-26T03:16:21.458406Z",
     "iopub.status.busy": "2024-02-26T03:16:21.457957Z",
     "iopub.status.idle": "2024-02-26T03:16:21.47317Z",
     "shell.execute_reply": "2024-02-26T03:16:21.472312Z",
     "shell.execute_reply.started": "2024-02-26T03:16:21.458381Z"
    }
   },
   "outputs": [],
   "source": [
    "dataset_dir = \"/kaggle/input/logodet3k/LogoDet-3K\"\n",
    "# dataset_dir = \"/home/sinewave/logocode_detection/datasets/LogoDet-3K\"\n",
    "os.listdir(dataset_dir)"
   ]
  },
  {
   "cell_type": "code",
   "execution_count": null,
   "metadata": {
    "execution": {
     "iopub.execute_input": "2024-02-26T03:16:21.474367Z",
     "iopub.status.busy": "2024-02-26T03:16:21.474084Z",
     "iopub.status.idle": "2024-02-26T03:18:33.369946Z",
     "shell.execute_reply": "2024-02-26T03:18:33.369083Z",
     "shell.execute_reply.started": "2024-02-26T03:16:21.474344Z"
    }
   },
   "outputs": [],
   "source": [
    "df = pd.DataFrame(glob.glob(f\"{dataset_dir}/*/*/*\"), columns=[\"file_path\"])\n",
    "df[\"ext\"] = df[\"file_path\"].apply(lambda x: x.split(\".\")[-1])\n",
    "df[\"logo_category\"] = df[\"file_path\"].apply(lambda x: x.split(os.sep)[-3])\n",
    "df[\"logo_name\"] = df[\"file_path\"].apply(lambda x: x.split(os.sep)[-2])\n",
    "df.head()"
   ]
  },
  {
   "cell_type": "code",
   "execution_count": null,
   "metadata": {
    "execution": {
     "iopub.execute_input": "2024-02-26T03:18:33.371258Z",
     "iopub.status.busy": "2024-02-26T03:18:33.370975Z",
     "iopub.status.idle": "2024-02-26T03:18:33.374978Z",
     "shell.execute_reply": "2024-02-26T03:18:33.374232Z",
     "shell.execute_reply.started": "2024-02-26T03:18:33.371234Z"
    }
   },
   "outputs": [],
   "source": [
    "# !du /kaggle/input/logodet3k/LogoDet-3K --human-readable -d 1\n",
    "# !du /home/sinewave/logocode_detection/datasets/LogoDet-3K --human-readable -d 1"
   ]
  },
  {
   "cell_type": "code",
   "execution_count": null,
   "metadata": {
    "execution": {
     "iopub.execute_input": "2024-02-26T03:18:33.376929Z",
     "iopub.status.busy": "2024-02-26T03:18:33.376285Z",
     "iopub.status.idle": "2024-02-26T03:18:34.832126Z",
     "shell.execute_reply": "2024-02-26T03:18:34.831161Z",
     "shell.execute_reply.started": "2024-02-26T03:18:33.376898Z"
    }
   },
   "outputs": [],
   "source": [
    "df.to_csv(\"logodet3k_reference.csv\", index=False)"
   ]
  },
  {
   "cell_type": "code",
   "execution_count": null,
   "metadata": {
    "execution": {
     "iopub.execute_input": "2024-02-26T03:18:34.833543Z",
     "iopub.status.busy": "2024-02-26T03:18:34.833276Z",
     "iopub.status.idle": "2024-02-26T03:18:34.900197Z",
     "shell.execute_reply": "2024-02-26T03:18:34.899413Z",
     "shell.execute_reply.started": "2024-02-26T03:18:34.833521Z"
    }
   },
   "outputs": [],
   "source": [
    "df[\"ext\"].value_counts()"
   ]
  },
  {
   "cell_type": "code",
   "execution_count": null,
   "metadata": {
    "execution": {
     "iopub.execute_input": "2024-02-26T03:18:34.905227Z",
     "iopub.status.busy": "2024-02-26T03:18:34.904706Z",
     "iopub.status.idle": "2024-02-26T03:18:35.09309Z",
     "shell.execute_reply": "2024-02-26T03:18:35.092189Z",
     "shell.execute_reply.started": "2024-02-26T03:18:34.905204Z"
    }
   },
   "outputs": [],
   "source": [
    "df2 = df[df[\"ext\"]==\"jpg\"].iloc[:]\n",
    "print({\n",
    "    \"No. of categories\": df2[\"logo_category\"].nunique(), \n",
    "    \"No. of logo types\": df2[\"logo_name\"].nunique(),\n",
    "    \"Avg. no. of images per category\": df2.groupby(\"logo_category\")[\"file_path\"].count().mean().round(), \n",
    "    \"Avg. no. of images per logo\": df2.groupby(\"logo_name\")[\"file_path\"].count().mean().round(), \n",
    "})"
   ]
  },
  {
   "cell_type": "code",
   "execution_count": null,
   "metadata": {
    "execution": {
     "iopub.execute_input": "2024-02-26T03:18:35.094681Z",
     "iopub.status.busy": "2024-02-26T03:18:35.094315Z",
     "iopub.status.idle": "2024-02-26T03:18:35.129775Z",
     "shell.execute_reply": "2024-02-26T03:18:35.128902Z",
     "shell.execute_reply.started": "2024-02-26T03:18:35.094646Z"
    }
   },
   "outputs": [],
   "source": [
    "df2[\"logo_category\"].value_counts()"
   ]
  },
  {
   "cell_type": "code",
   "execution_count": null,
   "metadata": {
    "execution": {
     "iopub.execute_input": "2024-02-26T03:18:35.131223Z",
     "iopub.status.busy": "2024-02-26T03:18:35.130897Z",
     "iopub.status.idle": "2024-02-26T03:18:35.449176Z",
     "shell.execute_reply": "2024-02-26T03:18:35.448277Z",
     "shell.execute_reply.started": "2024-02-26T03:18:35.131199Z"
    }
   },
   "outputs": [],
   "source": [
    "df2[\"logo_name\"].value_counts().reset_index().plot(\n",
    "    x=\"logo_name\", y=\"count\", figsize=(10,5), title=\"Distribution of logo img counts\")"
   ]
  },
  {
   "cell_type": "code",
   "execution_count": null,
   "metadata": {
    "execution": {
     "iopub.execute_input": "2024-02-26T03:18:35.450497Z",
     "iopub.status.busy": "2024-02-26T03:18:35.450239Z",
     "iopub.status.idle": "2024-02-26T03:18:35.481254Z",
     "shell.execute_reply": "2024-02-26T03:18:35.48043Z",
     "shell.execute_reply.started": "2024-02-26T03:18:35.450474Z"
    }
   },
   "outputs": [],
   "source": [
    "dataset_dst_dir = \"/kaggle/working/logodet3k\"\n",
    "if os.path.exists(dataset_dst_dir):\n",
    "    shutil.rmtree(dataset_dst_dir)\n",
    "os.makedirs(f\"{dataset_dst_dir}/train\", exist_ok=True)\n",
    "os.makedirs(f\"{dataset_dst_dir}/val\", exist_ok=True)\n",
    "\n",
    "classname2idx = {logo_name: idx for idx, logo_name in enumerate(sorted(df2[\"logo_name\"].unique()))}\n",
    "print(str(classname2idx)[:100]+\"...\")\n",
    "idx2classname = {idx: logo_name for logo_name, idx in classname2idx.items()}\n",
    "\n",
    "classname2idx = {\"logo\": 0}\n",
    "idx2classname = defaultdict(lambda: \"logo\")\n",
    "\n",
    "class_name_idx_map_str = \"\\n\".join([f\"    {idx}: {class_name}\" for class_name, idx in classname2idx.items()])\n",
    "print(class_name_idx_map_str)\n",
    "\n",
    "dataset_config = f\"\"\"\n",
    "path: {dataset_dst_dir} \n",
    "train:\n",
    "    - train\n",
    "val:\n",
    "    - val\n",
    "\n",
    "# test:\n",
    "#     - test\n",
    "\n",
    "# Classes\n",
    "names:\n",
    "{class_name_idx_map_str}\n",
    "\"\"\"\n",
    "print(dataset_config)\n",
    "with open(\"dataset_config.yaml\", \"w\") as f:\n",
    "    f.write(dataset_config)\n",
    "print(\"-\"*10)\n",
    "with open(\"dataset_config.yaml\", \"r\") as f:\n",
    "    datcon = yaml.safe_load(f)\n",
    "    print(datcon)"
   ]
  },
  {
   "cell_type": "code",
   "execution_count": null,
   "metadata": {
    "execution": {
     "iopub.execute_input": "2024-02-26T03:18:35.482868Z",
     "iopub.status.busy": "2024-02-26T03:18:35.482453Z",
     "iopub.status.idle": "2024-02-26T03:18:35.509733Z",
     "shell.execute_reply": "2024-02-26T03:18:35.508883Z",
     "shell.execute_reply.started": "2024-02-26T03:18:35.482836Z"
    }
   },
   "outputs": [],
   "source": [
    "def convert_voc_to_yolo(src, dst, classname2idx):\n",
    "    tree = ET.parse(src)\n",
    "    root = tree.getroot()\n",
    "    yolo_lines = []\n",
    "    image_width = float(root.find(\"size/width\").text)\n",
    "    image_height = float(root.find(\"size/height\").text)\n",
    "    depth = float(root.find(\"size/depth\").text)\n",
    "    for obj in root.findall('object'):\n",
    "        class_name = obj.find('name').text\n",
    "        bbox = obj.find('bndbox')\n",
    "        xmin = float(bbox.find('xmin').text)\n",
    "        ymin = float(bbox.find('ymin').text)\n",
    "        xmax = float(bbox.find('xmax').text)\n",
    "        ymax = float(bbox.find('ymax').text)\n",
    "        x_center = (xmin + xmax) / 2 / image_width\n",
    "        y_center = (ymin + ymax) / 2 / image_height\n",
    "        width = (xmax - xmin) / image_width\n",
    "        height = (ymax - ymin) / image_height\n",
    "        class_index = classname2idx.get(class_name, 0)\n",
    "#         yolo_line = f\"{class_index} {round(x_center, 6)} {round(y_center, 6)} {round(width, 6)} {round(height, 6)}\"\n",
    "        yolo_line = f\"{class_index} {x_center} {y_center} {width} {height}\"\n",
    "        yolo_lines.append(yolo_line)\n",
    "    if dst is not None:\n",
    "        with open(dst, \"w\") as f:\n",
    "            f.write(\"\\n\".join(yolo_lines))\n",
    "    return yolo_lines\n",
    "    \n",
    "convert_voc_to_yolo(f\"{dataset_dir}/Clothes/2xist/1.xml\", None, {})"
   ]
  },
  {
   "cell_type": "code",
   "execution_count": null,
   "metadata": {
    "execution": {
     "iopub.execute_input": "2024-02-26T03:18:35.51095Z",
     "iopub.status.busy": "2024-02-26T03:18:35.510695Z",
     "iopub.status.idle": "2024-02-26T03:23:38.277138Z",
     "shell.execute_reply": "2024-02-26T03:23:38.276066Z",
     "shell.execute_reply.started": "2024-02-26T03:18:35.510927Z"
    }
   },
   "outputs": [],
   "source": [
    "df2['is_train'] = True\n",
    "train_df, test_df = train_test_split(df2, test_size=0.2, random_state=101)\n",
    "test_df['is_train'] = False\n",
    "final_df = pd.concat([train_df, test_df])\n",
    "final_df.reset_index(drop=True, inplace=True)\n",
    "\n",
    "def copy_to_working(x):\n",
    "    train_folder = \"train\" if x[\"is_train\"] else \"val\"\n",
    "    src = x[\"file_path\"]\n",
    "    dst = os.path.join(dataset_dst_dir, train_folder, \"__\".join(x[\"file_path\"].split(os.sep)[-3:]))\n",
    "    if not os.path.exists(dst):\n",
    "        shutil.copy(src, dst)\n",
    "    if not os.path.exists(dst.replace(\".jpg\", \".txt\")):\n",
    "        convert_voc_to_yolo(src.replace(\".jpg\", \".xml\"), dst.replace(\".jpg\", \".txt\"), classname2idx)\n",
    "    return True\n",
    "\n",
    "# copy_to_working(final_df.iloc[0].T.to_dict())\n",
    "copy_to_working_results = []\n",
    "\n",
    "with ThreadPoolExecutor() as e:\n",
    "    for _, row in tqdm(final_df.iterrows()):\n",
    "        status = e.submit(copy_to_working, dict(row))\n",
    "        copy_to_working_results.append(status)\n",
    "        \n",
    "copy_to_working_results = final_df.apply(lambda x: copy_to_working(x), axis=1)\n",
    "copy_to_working_results.sum(), final_df.shape[0]"
   ]
  },
  {
   "cell_type": "code",
   "execution_count": null,
   "metadata": {
    "execution": {
     "iopub.execute_input": "2024-02-26T03:23:38.279067Z",
     "iopub.status.busy": "2024-02-26T03:23:38.27863Z",
     "iopub.status.idle": "2024-02-26T03:23:38.285668Z",
     "shell.execute_reply": "2024-02-26T03:23:38.284849Z",
     "shell.execute_reply.started": "2024-02-26T03:23:38.279034Z"
    }
   },
   "outputs": [],
   "source": [
    "copy_to_working_results.sum(), final_df.shape[0]"
   ]
  },
  {
   "cell_type": "code",
   "execution_count": null,
   "metadata": {
    "execution": {
     "iopub.execute_input": "2024-02-26T03:23:38.287319Z",
     "iopub.status.busy": "2024-02-26T03:23:38.286958Z",
     "iopub.status.idle": "2024-02-26T03:23:38.417632Z",
     "shell.execute_reply": "2024-02-26T03:23:38.416598Z",
     "shell.execute_reply.started": "2024-02-26T03:23:38.287289Z"
    }
   },
   "outputs": [],
   "source": [
    "model = YOLO('yolov8m.pt')\n",
    "# model = YOLO('yolov8x.pt')"
   ]
  },
  {
   "cell_type": "code",
   "execution_count": null,
   "metadata": {
    "execution": {
     "iopub.execute_input": "2024-02-26T03:23:38.419089Z",
     "iopub.status.busy": "2024-02-26T03:23:38.418803Z",
     "iopub.status.idle": "2024-02-26T03:23:38.424406Z",
     "shell.execute_reply": "2024-02-26T03:23:38.423474Z",
     "shell.execute_reply.started": "2024-02-26T03:23:38.419065Z"
    }
   },
   "outputs": [],
   "source": [
    "def plot_bboxes(r):\n",
    "    annotator = Annotator(r.orig_img)\n",
    "    boxes = r.boxes\n",
    "    for box in boxes:\n",
    "        b = box.xyxy[0]\n",
    "        c = box.cls\n",
    "        annotator.box_label(b, model.names[int(c)])\n",
    "    img = annotator.result() \n",
    "    return img"
   ]
  },
  {
   "cell_type": "code",
   "execution_count": null,
   "metadata": {
    "execution": {
     "iopub.execute_input": "2024-02-26T03:23:38.425847Z",
     "iopub.status.busy": "2024-02-26T03:23:38.425586Z",
     "iopub.status.idle": "2024-02-26T03:23:39.807539Z",
     "shell.execute_reply": "2024-02-26T03:23:39.806383Z",
     "shell.execute_reply.started": "2024-02-26T03:23:38.425825Z"
    }
   },
   "outputs": [],
   "source": [
    "!wget -O person.jpg https://www.indiafilings.com/learn/wp-content/uploads/2023/03/Can-a-single-person-own-a-firm-in-India.jpg"
   ]
  },
  {
   "cell_type": "code",
   "execution_count": null,
   "metadata": {
    "execution": {
     "iopub.execute_input": "2024-02-26T03:23:39.810469Z",
     "iopub.status.busy": "2024-02-26T03:23:39.809088Z",
     "iopub.status.idle": "2024-02-26T03:23:42.025348Z",
     "shell.execute_reply": "2024-02-26T03:23:42.024532Z",
     "shell.execute_reply.started": "2024-02-26T03:23:39.810439Z"
    }
   },
   "outputs": [],
   "source": [
    "plt.imshow(plot_bboxes(model(\"person.jpg\")[0]))\n",
    "plt.show()"
   ]
  },
  {
   "cell_type": "code",
   "execution_count": null,
   "metadata": {
    "execution": {
     "iopub.execute_input": "2024-02-26T03:23:42.026888Z",
     "iopub.status.busy": "2024-02-26T03:23:42.026629Z",
     "iopub.status.idle": "2024-02-26T03:23:44.598832Z",
     "shell.execute_reply": "2024-02-26T03:23:44.597926Z",
     "shell.execute_reply.started": "2024-02-26T03:23:42.026865Z"
    }
   },
   "outputs": [],
   "source": [
    "logos_sample = list(df2.sample(10).T.to_dict().values())\n",
    "results = model([logo[\"file_path\"]for logo in logos_sample])\n",
    "print(len(results))\n",
    "for r in results:\n",
    "    img = plot_bboxes(r)\n",
    "    plt.imshow(img)\n",
    "    plt.show()"
   ]
  },
  {
   "cell_type": "code",
   "execution_count": null,
   "metadata": {
    "execution": {
     "iopub.execute_input": "2024-02-26T03:23:44.600758Z",
     "iopub.status.busy": "2024-02-26T03:23:44.600414Z",
     "iopub.status.idle": "2024-02-26T03:23:44.604693Z",
     "shell.execute_reply": "2024-02-26T03:23:44.603843Z",
     "shell.execute_reply.started": "2024-02-26T03:23:44.600726Z"
    }
   },
   "outputs": [],
   "source": [
    "# !yolo train model=yolov8n.pt data=dataset_config.yaml epochs=3 imgsz=640\n",
    "# !yolo export model=yolov8n_simple_train.pt\n",
    "# !yolo val model=yolov8n_simple_train.pt data=dataset_config.yaml"
   ]
  },
  {
   "cell_type": "code",
   "execution_count": null,
   "metadata": {
    "execution": {
     "iopub.execute_input": "2024-02-26T03:23:44.606248Z",
     "iopub.status.busy": "2024-02-26T03:23:44.605894Z",
     "iopub.status.idle": "2024-02-26T03:23:44.616268Z",
     "shell.execute_reply": "2024-02-26T03:23:44.615415Z",
     "shell.execute_reply.started": "2024-02-26T03:23:44.606217Z"
    }
   },
   "outputs": [],
   "source": [
    "# img_path = random.choice(logos_sample)[\"file_path\"]\n",
    "# print(\"\\n\".join(convert_voc_to_yolo(img_path.replace(\".jpg\", \".xml\"), None, {})))\n",
    "# Image(img_path)"
   ]
  },
  {
   "cell_type": "code",
   "execution_count": null,
   "metadata": {},
   "outputs": [],
   "source": []
  },
  {
   "cell_type": "code",
   "execution_count": null,
   "metadata": {},
   "outputs": [],
   "source": []
  },
  {
   "cell_type": "code",
   "execution_count": null,
   "metadata": {
    "execution": {
     "iopub.execute_input": "2024-02-26T03:23:44.617931Z",
     "iopub.status.busy": "2024-02-26T03:23:44.617565Z",
     "iopub.status.idle": "2024-02-26T03:31:27.804974Z",
     "shell.execute_reply": "2024-02-26T03:31:27.802871Z",
     "shell.execute_reply.started": "2024-02-26T03:23:44.617903Z"
    }
   },
   "outputs": [],
   "source": [
    "test_results = model.train(data='dataset_config.yaml', epochs=10)\n",
    "#, cache=True) # dont turn cache true it will run out of memory\n",
    "print(test_results)"
   ]
  },
  {
   "cell_type": "code",
   "execution_count": null,
   "metadata": {
    "execution": {
     "iopub.status.busy": "2024-02-26T03:31:27.806083Z",
     "iopub.status.idle": "2024-02-26T03:31:27.806439Z",
     "shell.execute_reply": "2024-02-26T03:31:27.80629Z",
     "shell.execute_reply.started": "2024-02-26T03:31:27.806272Z"
    }
   },
   "outputs": [],
   "source": [
    "val_results = model.val()\n",
    "print(val_results)"
   ]
  },
  {
   "cell_type": "code",
   "execution_count": null,
   "metadata": {
    "execution": {
     "iopub.status.busy": "2024-02-26T03:31:27.807529Z",
     "iopub.status.idle": "2024-02-26T03:31:27.807938Z",
     "shell.execute_reply": "2024-02-26T03:31:27.807748Z",
     "shell.execute_reply.started": "2024-02-26T03:31:27.807728Z"
    }
   },
   "outputs": [],
   "source": [
    "exported_model = model.export()"
   ]
  },
  {
   "cell_type": "code",
   "execution_count": null,
   "metadata": {
    "execution": {
     "iopub.status.busy": "2024-02-26T03:31:27.809574Z",
     "iopub.status.idle": "2024-02-26T03:31:27.81006Z",
     "shell.execute_reply": "2024-02-26T03:31:27.809832Z",
     "shell.execute_reply.started": "2024-02-26T03:31:27.809813Z"
    }
   },
   "outputs": [],
   "source": [
    "print(exported_model)"
   ]
  },
  {
   "cell_type": "code",
   "execution_count": null,
   "metadata": {
    "execution": {
     "iopub.status.busy": "2024-02-26T03:31:27.811483Z",
     "iopub.status.idle": "2024-02-26T03:31:27.811929Z",
     "shell.execute_reply": "2024-02-26T03:31:27.811721Z",
     "shell.execute_reply.started": "2024-02-26T03:31:27.811699Z"
    }
   },
   "outputs": [],
   "source": [
    "import os\n",
    "for folder_name, _, files in os.walk(\"/kaggle/working/runs\"):\n",
    "    print(folder_name, files)"
   ]
  },
  {
   "cell_type": "code",
   "execution_count": null,
   "metadata": {
    "execution": {
     "iopub.status.busy": "2024-02-26T03:31:27.813697Z",
     "iopub.status.idle": "2024-02-26T03:31:27.814206Z",
     "shell.execute_reply": "2024-02-26T03:31:27.81393Z",
     "shell.execute_reply.started": "2024-02-26T03:31:27.81391Z"
    }
   },
   "outputs": [],
   "source": [
    "# !tar czf /kaggle/working/runs.tar.gz /kaggle/working/runs"
   ]
  },
  {
   "cell_type": "code",
   "execution_count": null,
   "metadata": {
    "execution": {
     "iopub.status.busy": "2024-02-26T03:31:27.815242Z",
     "iopub.status.idle": "2024-02-26T03:31:27.815733Z",
     "shell.execute_reply": "2024-02-26T03:31:27.815482Z",
     "shell.execute_reply.started": "2024-02-26T03:31:27.815462Z"
    }
   },
   "outputs": [],
   "source": [
    "# !ls "
   ]
  },
  {
   "cell_type": "code",
   "execution_count": null,
   "metadata": {
    "execution": {
     "iopub.execute_input": "2024-02-26T03:32:10.052426Z",
     "iopub.status.busy": "2024-02-26T03:32:10.051981Z",
     "iopub.status.idle": "2024-02-26T03:32:11.572442Z",
     "shell.execute_reply": "2024-02-26T03:32:11.571357Z",
     "shell.execute_reply.started": "2024-02-26T03:32:10.052389Z"
    }
   },
   "outputs": [],
   "source": [
    "# model = YOLO(exported_model.replace(\".torchscript\",\".pt\"))\n",
    "model = YOLO(\"/kaggle/input/yolo-single-logo/pytorch/v1/1/best_yolov8x_one_class.pt\")"
   ]
  },
  {
   "cell_type": "code",
   "execution_count": null,
   "metadata": {
    "execution": {
     "iopub.execute_input": "2024-02-26T03:32:11.657909Z",
     "iopub.status.busy": "2024-02-26T03:32:11.657258Z",
     "iopub.status.idle": "2024-02-26T03:32:15.238319Z",
     "shell.execute_reply": "2024-02-26T03:32:15.237367Z",
     "shell.execute_reply.started": "2024-02-26T03:32:11.657878Z"
    }
   },
   "outputs": [],
   "source": [
    "results = model([logo[\"file_path\"]for logo in logos_sample])\n",
    "print(len(results))\n",
    "for r in results:\n",
    "    img = plot_bboxes(r)\n",
    "    plt.imshow(img)\n",
    "    plt.show()"
   ]
  },
  {
   "cell_type": "code",
   "execution_count": null,
   "metadata": {
    "execution": {
     "iopub.execute_input": "2024-02-26T03:39:33.897903Z",
     "iopub.status.busy": "2024-02-26T03:39:33.897199Z",
     "iopub.status.idle": "2024-02-26T03:39:35.367456Z",
     "shell.execute_reply": "2024-02-26T03:39:35.366568Z",
     "shell.execute_reply.started": "2024-02-26T03:39:33.897866Z"
    }
   },
   "outputs": [],
   "source": [
    "results = model([\"https://s3-ap-southeast-1.amazonaws.com/assets.limetray.com/assets/user_images/logos/original/1602742091_DUNKINLogo.png\",\n",
    "                 \"https://media.designrush.com/inspiration_images/134805/conversions/_1512076803_93_Nike-desktop.jpg\"])\n",
    "print(len(results))\n",
    "for r in results:\n",
    "    img = plot_bboxes(r)\n",
    "    plt.imshow(img)\n",
    "    plt.show()"
   ]
  },
  {
   "cell_type": "code",
   "execution_count": null,
   "metadata": {
    "execution": {
     "iopub.status.busy": "2024-02-26T03:31:27.820577Z",
     "iopub.status.idle": "2024-02-26T03:31:27.821051Z",
     "shell.execute_reply": "2024-02-26T03:31:27.820829Z",
     "shell.execute_reply.started": "2024-02-26T03:31:27.820809Z"
    }
   },
   "outputs": [],
   "source": [
    "model"
   ]
  },
  {
   "cell_type": "code",
   "execution_count": null,
   "metadata": {},
   "outputs": [],
   "source": []
  }
 ],
 "metadata": {
  "kaggle": {
   "accelerator": "gpu",
   "dataSources": [
    {
     "datasetId": 888440,
     "sourceId": 1508223,
     "sourceType": "datasetVersion"
    },
    {
     "modelId": 13331,
     "modelInstanceId": 9760,
     "sourceId": 12041,
     "sourceType": "modelInstanceVersion"
    }
   ],
   "dockerImageVersionId": 30646,
   "isGpuEnabled": true,
   "isInternetEnabled": false,
   "language": "python",
   "sourceType": "notebook"
  },
  "kernelspec": {
   "display_name": "Python 3 (ipykernel)",
   "language": "python",
   "name": "python3"
  },
  "language_info": {
   "codemirror_mode": {
    "name": "ipython",
    "version": 3
   },
   "file_extension": ".py",
   "mimetype": "text/x-python",
   "name": "python",
   "nbconvert_exporter": "python",
   "pygments_lexer": "ipython3",
   "version": "3.12.3"
  }
 },
 "nbformat": 4,
 "nbformat_minor": 4
}
